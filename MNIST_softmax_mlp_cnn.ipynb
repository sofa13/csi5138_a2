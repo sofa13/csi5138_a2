{
 "cells": [
  {
   "cell_type": "markdown",
   "metadata": {},
   "source": [
    "**Question 4**\n",
    "\n",
    "Develop three classifiers for the MNIST dataset using three different models: soft-max regression, MLP, and CNN."
   ]
  },
  {
   "cell_type": "markdown",
   "metadata": {},
   "source": [
    "# Setup"
   ]
  },
  {
   "cell_type": "code",
   "execution_count": 30,
   "metadata": {},
   "outputs": [],
   "source": [
    "# Common imports\n",
    "import numpy as np\n",
    "import os\n",
    "\n",
    "from sklearn.datasets import fetch_mldata\n",
    "from sklearn.linear_model import LogisticRegression\n",
    "from sklearn.neural_network import MLPClassifier\n",
    "from sklearn.metrics import accuracy_score, precision_score, recall_score, f1_score, confusion_matrix\n",
    "from sklearn.model_selection import cross_val_predict\n",
    "\n",
    "import matplotlib\n",
    "import matplotlib.pyplot as plt\n",
    "\n",
    "import math"
   ]
  },
  {
   "cell_type": "markdown",
   "metadata": {},
   "source": [
    "# MNIST"
   ]
  },
  {
   "cell_type": "code",
   "execution_count": 1,
   "metadata": {},
   "outputs": [
    {
     "name": "stdout",
     "output_type": "stream",
     "text": [
      "Data size: 70000 x 784 and label size 70000\n",
      "The images are of size: 28.0 x 28.0\n",
      "The images are of size: 28.0 x 28.0\n"
     ]
    }
   ],
   "source": [
    "mnist = fetch_mldata('MNIST original')\n",
    "\n",
    "# Use the notion of y=f(X)\n",
    "X, y = mnist[\"data\"], mnist[\"target\"]\n",
    "print('Data size: {0} x {1} and label size {2}'.format(X.shape[0],X.shape[1],y.shape[0]))\n",
    "print('The images are of size: {0} x {0}'.format(math.sqrt(X.shape[1])))\n",
    "print('The images are of size: {0} x {0}'.format(math.sqrt(X.shape[1])))"
   ]
  },
  {
   "cell_type": "markdown",
   "metadata": {},
   "source": [
    "# Test and Training Data"
   ]
  },
  {
   "cell_type": "code",
   "execution_count": 7,
   "metadata": {},
   "outputs": [
    {
     "name": "stdout",
     "output_type": "stream",
     "text": [
      "7.0\n"
     ]
    }
   ],
   "source": [
    "np.random.seed(42)\n",
    "shuffle_index = np.random.permutation(70000)\n",
    "# reshuffle the data and use 60000 samples as training and 10000 as test\n",
    "X_train, X_test, y_train, y_test = X[shuffle_index[:60000],:], X[shuffle_index[60000:],:], y[shuffle_index[:60000]], y[shuffle_index[60000:]]\n",
    "print(y_train[0])"
   ]
  },
  {
   "cell_type": "markdown",
   "metadata": {},
   "source": [
    "# Multiclass classification"
   ]
  },
  {
   "cell_type": "markdown",
   "metadata": {},
   "source": [
    "### Softmax regression"
   ]
  },
  {
   "cell_type": "code",
   "execution_count": 49,
   "metadata": {},
   "outputs": [
    {
     "data": {
      "text/plain": [
       "LogisticRegression(C=1.0, class_weight=None, dual=False, fit_intercept=True,\n",
       "          intercept_scaling=1, max_iter=5, multi_class='multinomial',\n",
       "          n_jobs=1, penalty='l2', random_state=None, solver='lbfgs',\n",
       "          tol=0.0001, verbose=0, warm_start=False)"
      ]
     },
     "execution_count": 49,
     "metadata": {},
     "output_type": "execute_result"
    }
   ],
   "source": [
    "# For a multi_class problem, if multi_class is set to be “multinomial” the softmax function is used to find the predicted probability of each class. Else use a one-vs-rest approach\n",
    "# (Currently the ‘multinomial’ option is supported only by the ‘lbfgs’, ‘sag’ and ‘newton-cg’ solvers.)\n",
    "mult_clf = LogisticRegression(max_iter=5, multi_class='multinomial', solver='lbfgs')\n",
    "mult_clf.fit(X_train, y_train)"
   ]
  },
  {
   "cell_type": "code",
   "execution_count": 50,
   "metadata": {},
   "outputs": [
    {
     "name": "stdout",
     "output_type": "stream",
     "text": [
      "Classifier accuracy on the training set is 0.8422166666666666 \n",
      "Classifier accuracy on the training set is 0.8326 \n"
     ]
    }
   ],
   "source": [
    "y_pred = mult_clf.predict(X_train)\n",
    "print('Classifier accuracy on the training set is {0} '.format(accuracy_score(y_train, y_pred)))\n",
    "y_pred_test = mult_clf.predict(X_test)\n",
    "print('Classifier accuracy on the training set is {0} '.format(accuracy_score(y_test, y_pred_test)))"
   ]
  },
  {
   "cell_type": "code",
   "execution_count": 53,
   "metadata": {},
   "outputs": [
    {
     "name": "stdout",
     "output_type": "stream",
     "text": [
      "Confusion matrix (training): \n",
      "[[5360    0   39   22   13  145  151    5  128   11]\n",
      " [   0 6182   66   28    3   62   21   10  337    8]\n",
      " [ 113   89 4834  161  134   14  240  109  299   33]\n",
      " [  48   33  200 4906    7  266   64   83  368  113]\n",
      " [  23   37   37    3 4913    9  133   23   85  590]\n",
      " [ 151  121   93  468  149 3798  165   53  260  145]\n",
      " [ 100   69  147    6   50  106 5347    0   75    0]\n",
      " [  93  140  115    8  105    8    7 5409   89  277]\n",
      " [  36  104   90  279   37  176   57   41 4880  199]\n",
      " [  77   56   63   96  326   42   11  278  136 4904]]\n",
      "Confusion matrix (test): \n",
      "[[ 926    0   10    3    0   25   36    0   29    0]\n",
      " [   0 1067   10    5    0    9    3    2   63    1]\n",
      " [  11   10  790   20   14    0   37   20   56    6]\n",
      " [   9   12   43  837    1   48   12   20   45   26]\n",
      " [   3   13    6    0  803    2   23    2   16  103]\n",
      " [  29   20   22   89   26  601   35    8   53   27]\n",
      " [  13   16   27    1    9   21  878    0   11    0]\n",
      " [  14   24   19    3   17    0    2  908   10   45]\n",
      " [   5   27   22   50    8   34   13    9  721   37]\n",
      " [   9   13   14   11   57    7    2   46   15  795]]\n"
     ]
    }
   ],
   "source": [
    "y_train_pred = mult_clf.predict(X_train)\n",
    "y_test_pred = mult_clf.predict(X_test)\n",
    "conf_mx_train  = confusion_matrix(y_train, y_train_pred)\n",
    "conf_mx_test  = confusion_matrix(y_test, y_test_pred)\n",
    "print('Confusion matrix (training): \\n{0}'.format(conf_mx_train))\n",
    "print('Confusion matrix (test): \\n{0}'.format(conf_mx_test))"
   ]
  },
  {
   "cell_type": "code",
   "execution_count": 24,
   "metadata": {},
   "outputs": [],
   "source": [
    "def plot_confusion_matrix(matrix):\n",
    "    \"\"\"If you prefer color and a colorbar\"\"\"\n",
    "    fig = plt.figure(figsize=(8,8))\n",
    "    ax = fig.add_subplot(111)\n",
    "    cax = ax.matshow(matrix)\n",
    "    fig.colorbar(cax)"
   ]
  },
  {
   "cell_type": "code",
   "execution_count": 28,
   "metadata": {},
   "outputs": [
    {
     "data": {
      "image/png": "[encoded data removed]",
      "text/plain": [
       "<Figure size 576x576 with 2 Axes>"
      ]
     },
     "metadata": {},
     "output_type": "display_data"
    }
   ],
   "source": [
    "# plt.matshow(conf_mx, cmap=plt.cm.gray)\n",
    "plot_confusion_matrix(conf_mx)\n",
    "plt.show()"
   ]
  },
  {
   "cell_type": "code",
   "execution_count": 54,
   "metadata": {},
   "outputs": [
    {
     "data": {
      "image/png": "[encoded data removed]",
      "text/plain": [
       "<Figure size 576x576 with 2 Axes>"
      ]
     },
     "metadata": {},
     "output_type": "display_data"
    }
   ],
   "source": [
    "row_sums = conf_mx_test.sum(axis=1, keepdims=True)\n",
    "norm_conf_mx = conf_mx_test / row_sums\n",
    "np.fill_diagonal(norm_conf_mx, 0)\n",
    "# plt.matshow(norm_conf_mx, cmap=plt.cm.gray)\n",
    "plot_confusion_matrix(norm_conf_mx)\n",
    "plt.show()"
   ]
  },
  {
   "cell_type": "markdown",
   "metadata": {},
   "source": [
    "### MLP"
   ]
  },
  {
   "cell_type": "code",
   "execution_count": 38,
   "metadata": {},
   "outputs": [
    {
     "name": "stdout",
     "output_type": "stream",
     "text": [
      "Iteration 1, loss = 1.75897475\n",
      "Iteration 2, loss = 0.96002620\n",
      "Iteration 3, loss = 0.69720540\n",
      "Iteration 4, loss = 0.45498858\n",
      "Iteration 5, loss = 0.37761542\n",
      "Iteration 6, loss = 0.33838623\n",
      "Iteration 7, loss = 0.31558029\n",
      "Iteration 8, loss = 0.29880765\n",
      "Iteration 9, loss = 0.28865154\n",
      "Iteration 10, loss = 0.27436245\n",
      "Iteration 11, loss = 0.26918680\n",
      "Iteration 12, loss = 0.26054291\n",
      "Iteration 13, loss = 0.25519014\n",
      "Iteration 14, loss = 0.25097437\n",
      "Iteration 15, loss = 0.24502011\n",
      "Iteration 16, loss = 0.23999959\n",
      "Iteration 17, loss = 0.23553339\n",
      "Iteration 18, loss = 0.23146976\n",
      "Iteration 19, loss = 0.22723602\n",
      "Iteration 20, loss = 0.22503644\n",
      "Iteration 21, loss = 0.22434162\n",
      "Iteration 22, loss = 0.22192464\n",
      "Iteration 23, loss = 0.21687442\n",
      "Iteration 24, loss = 0.21570887\n",
      "Iteration 25, loss = 0.21272449\n",
      "Iteration 26, loss = 0.20861221\n",
      "Iteration 27, loss = 0.20876721\n",
      "Iteration 28, loss = 0.20572685\n",
      "Iteration 29, loss = 0.20297555\n",
      "Iteration 30, loss = 0.20207312\n",
      "Iteration 31, loss = 0.19992818\n",
      "Iteration 32, loss = 0.19964756\n",
      "Iteration 33, loss = 0.19705435\n",
      "Iteration 34, loss = 0.19404110\n",
      "Iteration 35, loss = 0.19242427\n",
      "Iteration 36, loss = 0.19113066\n",
      "Iteration 37, loss = 0.18972508\n",
      "Iteration 38, loss = 0.18941850\n",
      "Iteration 39, loss = 0.18733088\n",
      "Iteration 40, loss = 0.18709153\n",
      "Iteration 41, loss = 0.18479474\n",
      "Iteration 42, loss = 0.18268135\n",
      "Iteration 43, loss = 0.18361288\n",
      "Iteration 44, loss = 0.18167347\n",
      "Iteration 45, loss = 0.17885322\n",
      "Iteration 46, loss = 0.17843802\n",
      "Iteration 47, loss = 0.18050616\n",
      "Iteration 48, loss = 0.17696360\n",
      "Iteration 49, loss = 0.17667149\n",
      "Iteration 50, loss = 0.17525990\n",
      "Iteration 51, loss = 0.17537625\n",
      "Iteration 52, loss = 0.17385707\n",
      "Iteration 53, loss = 0.17269942\n",
      "Iteration 54, loss = 0.17065618\n",
      "Iteration 55, loss = 0.17229141\n",
      "Iteration 56, loss = 0.16998712\n",
      "Iteration 57, loss = 0.17120546\n",
      "Iteration 58, loss = 0.16994916\n",
      "Iteration 59, loss = 0.16861280\n",
      "Iteration 60, loss = 0.16870948\n",
      "Iteration 61, loss = 0.16631505\n",
      "Iteration 62, loss = 0.16512904\n",
      "Iteration 63, loss = 0.16326708\n",
      "Iteration 64, loss = 0.16417284\n",
      "Iteration 65, loss = 0.16240450\n",
      "Iteration 66, loss = 0.16321257\n",
      "Iteration 67, loss = 0.16087138\n",
      "Iteration 68, loss = 0.16323046\n",
      "Iteration 69, loss = 0.16101117\n",
      "Iteration 70, loss = 0.16285251\n",
      "Training loss did not improve more than tol=0.000100 for two consecutive epochs. Stopping.\n"
     ]
    },
    {
     "data": {
      "text/plain": [
       "MLPClassifier(activation='relu', alpha=0.0001, batch_size='auto', beta_1=0.9,\n",
       "       beta_2=0.999, early_stopping=False, epsilon=1e-08,\n",
       "       hidden_layer_sizes=(100,), learning_rate='constant',\n",
       "       learning_rate_init=0.001, max_iter=100, momentum=0.9,\n",
       "       nesterovs_momentum=True, power_t=0.5, random_state=None,\n",
       "       shuffle=True, solver='sgd', tol=0.0001, validation_fraction=0.0,\n",
       "       verbose='true', warm_start=False)"
      ]
     },
     "execution_count": 38,
     "metadata": {},
     "output_type": "execute_result"
    }
   ],
   "source": [
    "nn_clf = MLPClassifier(max_iter=100,solver='sgd',validation_fraction=0.0, verbose='true')\n",
    "nn_clf.fit(X_train, y_train)"
   ]
  },
  {
   "cell_type": "code",
   "execution_count": 39,
   "metadata": {},
   "outputs": [
    {
     "name": "stdout",
     "output_type": "stream",
     "text": [
      "Classifier accuracy on the training set is 0.9526666666666667 \n",
      "Classifier accuracy on the test set is 0.9305 \n"
     ]
    }
   ],
   "source": [
    "y_pred = nn_clf.predict(X_train)\n",
    "y_pred_test = nn_clf.predict(X_test)\n",
    "\n",
    "print('Classifier accuracy on the training set is {0} '.format(accuracy_score(y_train, y_pred)))\n",
    "print('Classifier accuracy on the test set is {0} '.format(accuracy_score(y_test, y_pred_test)))"
   ]
  },
  {
   "cell_type": "code",
   "execution_count": 44,
   "metadata": {},
   "outputs": [
    {
     "name": "stdout",
     "output_type": "stream",
     "text": [
      "Confusion matrix (training): \n",
      "[[5714    2    6    1    9   34   25    0   72   11]\n",
      " [   2 6625   40    7    7    2    3   10   13    8]\n",
      " [  40   18 5737   11   69   11   17   29   87    7]\n",
      " [  25   10  203 5449    2  144    8   41  126   80]\n",
      " [  13    7   16    0 5416    3   24    5   47  322]\n",
      " [  94    4    9   56    5 4990   90    2   90   63]\n",
      " [  54    8   14    0   31   25 5728    0   37    3]\n",
      " [   9    5   70    7   47   12    0 6009    6   86]\n",
      " [  21   11   35    5    6   45   25    8 5699   44]\n",
      " [  32    3    0   20   30   21    0   26   64 5793]]\n",
      "Confusion matrix (test): \n",
      "[[ 996    0    4    1    0    4    5    2   15    2]\n",
      " [   1 1129    3    1    3    0    2    6   13    2]\n",
      " [   5    2  913    3    9    2    3    4   19    4]\n",
      " [   6    4   53  892    2   35    2   13   28   18]\n",
      " [   2    6    3    0  880    3    2    2   11   62]\n",
      " [  18    2    6   23    1  797   20    0   23   20]\n",
      " [   9    3    3    0    3    5  946    0    7    0]\n",
      " [   2    4   23    3   10    2    0  975    3   20]\n",
      " [   4   10   13    1    4    7    9    5  865    8]\n",
      " [   4    1    0    3   10   11    0   14   14  912]]\n"
     ]
    }
   ],
   "source": [
    "y_train_pred = nn_clf.predict(X_train)\n",
    "y_test_pred = nn_clf.predict(X_test)\n",
    "conf_mx_train  = confusion_matrix(y_train, y_train_pred)\n",
    "conf_mx_test  = confusion_matrix(y_test, y_test_pred)\n",
    "print('Confusion matrix (training): \\n{0}'.format(conf_mx_train))\n",
    "print('Confusion matrix (test): \\n{0}'.format(conf_mx_test))"
   ]
  },
  {
   "cell_type": "code",
   "execution_count": 46,
   "metadata": {},
   "outputs": [
    {
     "data": {
      "image/png": "[encoded data removed]",
      "text/plain": [
       "<Figure size 576x576 with 2 Axes>"
      ]
     },
     "metadata": {},
     "output_type": "display_data"
    }
   ],
   "source": [
    "row_sums = conf_mx_test.sum(axis=1, keepdims=True)\n",
    "norm_conf_mx = conf_mx_test / row_sums\n",
    "np.fill_diagonal(norm_conf_mx, 0)\n",
    "# plt.matshow(norm_conf_mx, cmap=plt.cm.gray)\n",
    "plot_confusion_matrix(norm_conf_mx)\n",
    "plt.show()"
   ]
  },
  {
   "cell_type": "markdown",
   "metadata": {},
   "source": [
    "### CNN"
   ]
  },
  {
   "cell_type": "code",
   "execution_count": null,
   "metadata": {},
   "outputs": [],
   "source": [
    "# https://www.datacamp.com/community/tutorials/convolutional-neural-networks-python\n",
    "# https://github.com/keras-team/keras/blob/master/examples/mnist_cnn.py"
   ]
  },
  {
   "cell_type": "code",
   "execution_count": 56,
   "metadata": {},
   "outputs": [
    {
     "name": "stdout",
     "output_type": "stream",
     "text": [
      "x_train shape: (60000, 28, 28, 1)\n",
      "60000 train samples\n",
      "10000 test samples\n",
      "Train on 60000 samples, validate on 10000 samples\n",
      "Epoch 1/2\n",
      "60000/60000 [==============================] - 1184s 20ms/step - loss: 0.2623 - acc: 0.9189 - val_loss: 0.0680 - val_acc: 0.9794\n",
      "Epoch 2/2\n",
      "60000/60000 [==============================] - 1107s 18ms/step - loss: 0.0905 - acc: 0.9728 - val_loss: 0.0528 - val_acc: 0.9846\n",
      "Test loss: 0.05277831609779969\n",
      "Test accuracy: 0.9846\n"
     ]
    }
   ],
   "source": [
    "'''Trains a simple convnet on the MNIST dataset.\n",
    "Gets to 99.25% test accuracy after 12 epochs\n",
    "(there is still a lot of margin for parameter tuning).\n",
    "16 seconds per epoch on a GRID K520 GPU.\n",
    "'''\n",
    "\n",
    "from __future__ import print_function\n",
    "import keras\n",
    "from keras.datasets import mnist\n",
    "from keras.models import Sequential\n",
    "from keras.layers import Dense, Dropout, Flatten\n",
    "from keras.layers import Conv2D, MaxPooling2D\n",
    "from keras import backend as K\n",
    "\n",
    "batch_size = 128\n",
    "num_classes = 10\n",
    "epochs = 12\n",
    "epochs = 2\n",
    "\n",
    "# input image dimensions\n",
    "img_rows, img_cols = 28, 28\n",
    "\n",
    "x_train = X_train\n",
    "x_test = X_test\n",
    "# the data, split between train and test sets\n",
    "#(x_train, y_train), (x_test, y_test) = mnist.load_data()\n",
    "\n",
    "if K.image_data_format() == 'channels_first':\n",
    "    x_train = x_train.reshape(x_train.shape[0], 1, img_rows, img_cols)\n",
    "    x_test = x_test.reshape(x_test.shape[0], 1, img_rows, img_cols)\n",
    "    input_shape = (1, img_rows, img_cols)\n",
    "else:\n",
    "    x_train = x_train.reshape(x_train.shape[0], img_rows, img_cols, 1)\n",
    "    x_test = x_test.reshape(x_test.shape[0], img_rows, img_cols, 1)\n",
    "    input_shape = (img_rows, img_cols, 1)\n",
    "\n",
    "x_train = x_train.astype('float32')\n",
    "x_test = x_test.astype('float32')\n",
    "x_train /= 255\n",
    "x_test /= 255\n",
    "print('x_train shape:', x_train.shape)\n",
    "print(x_train.shape[0], 'train samples')\n",
    "print(x_test.shape[0], 'test samples')\n",
    "\n",
    "# convert class vectors to binary class matrices\n",
    "y_train = keras.utils.to_categorical(y_train, num_classes)\n",
    "y_test = keras.utils.to_categorical(y_test, num_classes)\n",
    "\n",
    "model = Sequential()\n",
    "model.add(Conv2D(32, kernel_size=(3, 3),\n",
    "                 activation='relu',\n",
    "                 input_shape=input_shape))\n",
    "model.add(Conv2D(64, (3, 3), activation='relu'))\n",
    "model.add(MaxPooling2D(pool_size=(2, 2)))\n",
    "model.add(Dropout(0.25))\n",
    "model.add(Flatten())\n",
    "model.add(Dense(128, activation='relu'))\n",
    "model.add(Dropout(0.5))\n",
    "model.add(Dense(num_classes, activation='softmax'))\n",
    "\n",
    "model.compile(loss=keras.losses.categorical_crossentropy,\n",
    "              optimizer=keras.optimizers.Adadelta(),\n",
    "              metrics=['accuracy'])\n",
    "\n",
    "model.fit(x_train, y_train,\n",
    "          batch_size=batch_size,\n",
    "          epochs=epochs,\n",
    "          verbose=1,\n",
    "          validation_data=(x_test, y_test))\n",
    "score = model.evaluate(x_test, y_test, verbose=0)\n",
    "print('Test loss:', score[0])\n",
    "print('Test accuracy:', score[1])"
   ]
  },
  {
   "cell_type": "code",
   "execution_count": null,
   "metadata": {},
   "outputs": [],
   "source": []
  }
 ],
 "metadata": {
  "kernelspec": {
   "display_name": "Python 3",
   "language": "python",
   "name": "python3"
  },
  "language_info": {
   "codemirror_mode": {
    "name": "ipython",
    "version": 3
   },
   "file_extension": ".py",
   "mimetype": "text/x-python",
   "name": "python",
   "nbconvert_exporter": "python",
   "pygments_lexer": "ipython3",
   "version": "3.6.5"
  }
 },
 "nbformat": 4,
 "nbformat_minor": 2
}
