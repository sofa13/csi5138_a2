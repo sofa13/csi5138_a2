{
 "cells": [
  {
   "cell_type": "markdown",
   "metadata": {},
   "source": [
    "**Question 1**\n",
    "\n",
    "L(x) is a scalar-valued function with variables x exists in R^(K), and A and B are both K x K matrices. For a given input vector x and a configuation of (A,B), give the steps of the back-propagation algorithm that computes the gradients dL/dA and dL/dB, evaluated at (x,A,B). Assume evaluated means in terms of (x,A,B)."
   ]
  },
  {
   "cell_type": "code",
   "execution_count": 3,
   "metadata": {},
   "outputs": [
    {
     "data": {
      "image/jpeg": "[encoded data removed]",
      "text/plain": [
       "<IPython.core.display.Image object>"
      ]
     },
     "execution_count": 3,
     "metadata": {},
     "output_type": "execute_result"
    }
   ],
   "source": [
    "from IPython.display import Image \n",
    "Image(filename='./images/20181012_100130_small.jpg')"
   ]
  },
  {
   "cell_type": "markdown",
   "metadata": {},
   "source": [
    "By the chain rule.\n",
    "\n",
    "$\\frac{\\partial L}{\\partial A} = \\frac{\\partial L}{\\partial w} \\times \\frac{\\partial w}{\\partial A}$\n",
    "\n",
    "$\\frac{\\partial L}{\\partial B} = \\frac{\\partial L}{\\partial w} \\times \\frac{\\partial w}{\\partial z} \\times \\frac{\\partial z}{\\partial v} \\times \\frac{\\partial v}{\\partial B}$\n",
    "\n",
    "Write equations in terms of x, A, B.\n",
    "\n",
    "$w = Az = AA(u \\cdot v) = A^2(\\sigma(Ax) \\cdot Bx)$\n",
    "\n",
    "$z = A(u \\cdot v) = A(\\sigma(Ax) \\cdot Bx)$\n",
    "\n",
    "$u = \\sigma(y) = \\sigma(Ax)$\n",
    "\n",
    "$v = Bx$\n",
    "\n",
    "$y = Ax$\n",
    "\n",
    "Calculate partial derivatives and write in terms of x, A, B.\n",
    "\n",
    "$\\frac{\\partial L}{\\partial w} = 2w = 2A^2(\\sigma(Ax) \\cdot Bx)$\n",
    "\n",
    "$\\frac{\\partial w}{\\partial A} = 2A(\\sigma(Ax)(1-\\sigma(Ax)) \\cdot Bx)$\n",
    "\n",
    "$\\frac{\\partial w}{\\partial z} = A$\n",
    "\n",
    "$\\frac{\\partial z}{\\partial v} = Au = A\\sigma(Ax)$\n",
    "\n",
    "$\\frac{\\partial v}{\\partial B} = x$\n",
    "\n",
    "Substitute partial derivatives.\n",
    "\n",
    "$\\frac{\\partial L}{\\partial A} = \\frac{\\partial L}{\\partial w} \\times \\frac{\\partial w}{\\partial A} = 2A^2(\\sigma(Ax) \\cdot Bx) \\times A(\\sigma(Ax)(1-\\sigma(Ax)) \\cdot Bx)$\n",
    "\n",
    "$\\frac{\\partial L}{\\partial B} = \\frac{\\partial L}{\\partial w} \\times \\frac{\\partial w}{\\partial z} \\times \\frac{\\partial z}{\\partial v} \\times \\frac{\\partial v}{\\partial B} = 2A^2(\\sigma(Ax) \\cdot Bx) \\times A \\times A\\sigma(Ax) \\times x$"
   ]
  },
  {
   "cell_type": "markdown",
   "metadata": {},
   "source": [
    "**Question 2**\n",
    "\n",
    "Prove that $H1 = H2$."
   ]
  },
  {
   "cell_type": "markdown",
   "metadata": {},
   "source": [
    "First, notice that $W$ and $(A+B)C$ both belong to $\\mathbb{R} ^{K \\times m}$.\n",
    "\n",
    "Let $D \\epsilon \\mathbb{R} ^{K \\times K} = A \\epsilon \\mathbb{R} ^{K \\times K} + B \\epsilon \\mathbb{R} ^{K \\times K}$\n",
    "\n",
    "Let $E \\epsilon \\mathbb{R} ^{K \\times m} = D \\epsilon \\mathbb{R} ^{K \\times K} \\times C \\epsilon \\mathbb{R} ^{K \\times m}$\n",
    "\n",
    "Therefore $E = (A+B)C$, and $E$ and $W$ both belong to $\\mathbb{R} ^{K \\times m}$. If $E = W$, then $H1 = H2$.\n",
    "\n",
    "Next show that $E = W$ by showing $E \\subseteq W$ and $W \\supseteq E$. We will do this by picking an element in $E$ and show it is in $W$, and picking an element in $W$ and show it is in $E$.\n",
    "\n",
    "If element $n$ exists in $E$ then $n \\epsilon \\mathbb{R} ^{K \\times 1} $. Then for every $n$ element such that $n$ exists in $E$, there are $m$ such elements in $W$.\n",
    "\n",
    "If element $n$ exists in $W$ then $n \\epsilon \\mathbb{R} ^{K \\times 1} $. Then for every $n$ element such that $n$ exists in $W$, there are $m$ such elements in $E$.\n",
    "\n",
    "Therefore this shows that $E = W$, and thus $H1 = H2$."
   ]
  },
  {
   "cell_type": "markdown",
   "metadata": {},
   "source": [
    "**Question 3**\n",
    "\n",
    "Classify many 100 x 100 binary images into two classes, class-1 images with a white line segment of width 3 pixels  covering diagonally from top right to bottom left, class-2 images with two of these line segments. Constraint is the distance between the two line segments is at least 3 pixels.\n",
    "\n",
    "Assume pixel width of line segment is measured diagonally. Assume distance between two line segments is measured diagonally. Assume the line segment extends the entire image."
   ]
  },
  {
   "cell_type": "markdown",
   "metadata": {},
   "source": [
    "### Classifier program:\n",
    "For each 100 x 100 binary image\n",
    "1. Read the first pixel value in the top left corner of the image, at position (0, 0), ie. row 0 and column 0.\n",
    "2. Continue reading pixels diagonally with step size of 4 pixels since the line segments are at least a distance of 3 pixels apart diagonally. This means the next pixel is read at position (4, 4).\n",
    "3. If on the diagonal, the program reads a white pixel more than once, then the image is classified as class-2 image immediately.\n",
    "4. Else continue reading pixels in a top left to bottom right diagonal motion, with step size of 4 pixels. If the program can no longer move diagonally in the image, then the image is class-1."
   ]
  },
  {
   "cell_type": "markdown",
   "metadata": {},
   "source": [
    "**Question 4**\n",
    "\n",
    "Develop three classifiers for the MNIST dataset using three different models: soft-max regression, MLP, and CNN.\n",
    "\n",
    "Explore designs and compare the best performance obtained for each model. The written report may include anything interesting you observe and remark on the lessons learned."
   ]
  },
  {
   "cell_type": "markdown",
   "metadata": {},
   "source": [
    "# Setup"
   ]
  },
  {
   "cell_type": "code",
   "execution_count": 3,
   "metadata": {},
   "outputs": [],
   "source": [
    "# Common imports\n",
    "import numpy as np\n",
    "import os\n",
    "\n",
    "from sklearn.datasets import fetch_mldata\n",
    "from sklearn.linear_model import LogisticRegression\n",
    "from sklearn.neural_network import MLPClassifier\n",
    "from sklearn.metrics import accuracy_score, precision_score, recall_score, f1_score, confusion_matrix\n",
    "from sklearn.model_selection import cross_val_predict\n",
    "\n",
    "import matplotlib\n",
    "import matplotlib.pyplot as plt\n",
    "\n",
    "import math"
   ]
  },
  {
   "cell_type": "markdown",
   "metadata": {},
   "source": [
    "# MNIST"
   ]
  },
  {
   "cell_type": "code",
   "execution_count": 4,
   "metadata": {},
   "outputs": [
    {
     "name": "stdout",
     "output_type": "stream",
     "text": [
      "Data size: 70000 x 784 and label size 70000\n",
      "The images are of size: 28.0 x 28.0\n",
      "The images are of size: 28.0 x 28.0\n"
     ]
    }
   ],
   "source": [
    "mnist = fetch_mldata('MNIST original')\n",
    "\n",
    "# Use the notion of y=f(X)\n",
    "X, y = mnist[\"data\"], mnist[\"target\"]\n",
    "print('Data size: {0} x {1} and label size {2}'.format(X.shape[0],X.shape[1],y.shape[0]))\n",
    "print('The images are of size: {0} x {0}'.format(math.sqrt(X.shape[1])))\n",
    "print('The images are of size: {0} x {0}'.format(math.sqrt(X.shape[1])))"
   ]
  },
  {
   "cell_type": "markdown",
   "metadata": {},
   "source": [
    "# Test and Training Data"
   ]
  },
  {
   "cell_type": "code",
   "execution_count": 11,
   "metadata": {},
   "outputs": [
    {
     "name": "stdout",
     "output_type": "stream",
     "text": [
      "7.0\n"
     ]
    }
   ],
   "source": [
    "np.random.seed(42)\n",
    "shuffle_index = np.random.permutation(70000)\n",
    "# reshuffle the data and use 60000 samples as training and 10000 as test\n",
    "X_train, X_test, y_train, y_test = X[shuffle_index[:60000],:], X[shuffle_index[60000:],:], y[shuffle_index[:60000]], y[shuffle_index[60000:]]\n",
    "print(y_train[0])"
   ]
  },
  {
   "cell_type": "markdown",
   "metadata": {},
   "source": [
    "# Multiclass classification"
   ]
  },
  {
   "cell_type": "markdown",
   "metadata": {},
   "source": [
    "### Softmax regression"
   ]
  },
  {
   "cell_type": "code",
   "execution_count": 49,
   "metadata": {},
   "outputs": [
    {
     "data": {
      "text/plain": [
       "LogisticRegression(C=1.0, class_weight=None, dual=False, fit_intercept=True,\n",
       "          intercept_scaling=1, max_iter=5, multi_class='multinomial',\n",
       "          n_jobs=1, penalty='l2', random_state=None, solver='lbfgs',\n",
       "          tol=0.0001, verbose=0, warm_start=False)"
      ]
     },
     "execution_count": 49,
     "metadata": {},
     "output_type": "execute_result"
    }
   ],
   "source": [
    "# For a multi_class problem, if multi_class is set to be “multinomial” the softmax function is used to find the predicted probability of each class. Else use a one-vs-rest approach.\n",
    "# (Currently the ‘multinomial’ option is supported only by the ‘lbfgs’, ‘sag’ and ‘newton-cg’ solvers.)\n",
    "mult_clf = LogisticRegression(max_iter=5, multi_class='multinomial', solver='lbfgs')\n",
    "mult_clf.fit(X_train, y_train)"
   ]
  },
  {
   "cell_type": "code",
   "execution_count": 50,
   "metadata": {},
   "outputs": [
    {
     "name": "stdout",
     "output_type": "stream",
     "text": [
      "Classifier accuracy on the training set is 0.8422166666666666 \n",
      "Classifier accuracy on the training set is 0.8326 \n"
     ]
    }
   ],
   "source": [
    "y_pred = mult_clf.predict(X_train)\n",
    "print('Classifier accuracy on the training set is {0} '.format(accuracy_score(y_train, y_pred)))\n",
    "y_pred_test = mult_clf.predict(X_test)\n",
    "print('Classifier accuracy on the training set is {0} '.format(accuracy_score(y_test, y_pred_test)))"
   ]
  },
  {
   "cell_type": "code",
   "execution_count": 53,
   "metadata": {},
   "outputs": [
    {
     "name": "stdout",
     "output_type": "stream",
     "text": [
      "Confusion matrix (training): \n",
      "[[5360    0   39   22   13  145  151    5  128   11]\n",
      " [   0 6182   66   28    3   62   21   10  337    8]\n",
      " [ 113   89 4834  161  134   14  240  109  299   33]\n",
      " [  48   33  200 4906    7  266   64   83  368  113]\n",
      " [  23   37   37    3 4913    9  133   23   85  590]\n",
      " [ 151  121   93  468  149 3798  165   53  260  145]\n",
      " [ 100   69  147    6   50  106 5347    0   75    0]\n",
      " [  93  140  115    8  105    8    7 5409   89  277]\n",
      " [  36  104   90  279   37  176   57   41 4880  199]\n",
      " [  77   56   63   96  326   42   11  278  136 4904]]\n",
      "Confusion matrix (test): \n",
      "[[ 926    0   10    3    0   25   36    0   29    0]\n",
      " [   0 1067   10    5    0    9    3    2   63    1]\n",
      " [  11   10  790   20   14    0   37   20   56    6]\n",
      " [   9   12   43  837    1   48   12   20   45   26]\n",
      " [   3   13    6    0  803    2   23    2   16  103]\n",
      " [  29   20   22   89   26  601   35    8   53   27]\n",
      " [  13   16   27    1    9   21  878    0   11    0]\n",
      " [  14   24   19    3   17    0    2  908   10   45]\n",
      " [   5   27   22   50    8   34   13    9  721   37]\n",
      " [   9   13   14   11   57    7    2   46   15  795]]\n"
     ]
    }
   ],
   "source": [
    "y_train_pred = mult_clf.predict(X_train)\n",
    "y_test_pred = mult_clf.predict(X_test)\n",
    "conf_mx_train  = confusion_matrix(y_train, y_train_pred)\n",
    "conf_mx_test  = confusion_matrix(y_test, y_test_pred)\n",
    "print('Confusion matrix (training): \\n{0}'.format(conf_mx_train))\n",
    "print('Confusion matrix (test): \\n{0}'.format(conf_mx_test))"
   ]
  },
  {
   "cell_type": "code",
   "execution_count": 28,
   "metadata": {},
   "outputs": [],
   "source": [
    "def plot_confusion_matrix(matrix):\n",
    "    \"\"\"If you prefer color and a colorbar\"\"\"\n",
    "    fig = plt.figure(figsize=(8,8))\n",
    "    ax = fig.add_subplot(111)\n",
    "    cax = ax.matshow(matrix)\n",
    "    fig.colorbar(cax)"
   ]
  },
  {
   "cell_type": "code",
   "execution_count": 54,
   "metadata": {},
   "outputs": [
    {
     "data": {
      "image/png": "[encoded data removed]",
      "text/plain": [
       "<Figure size 576x576 with 2 Axes>"
      ]
     },
     "metadata": {},
     "output_type": "display_data"
    }
   ],
   "source": [
    "row_sums = conf_mx_test.sum(axis=1, keepdims=True)\n",
    "norm_conf_mx = conf_mx_test / row_sums\n",
    "np.fill_diagonal(norm_conf_mx, 0)\n",
    "# plt.matshow(norm_conf_mx, cmap=plt.cm.gray)\n",
    "plot_confusion_matrix(norm_conf_mx)\n",
    "plt.show()"
   ]
  },
  {
   "cell_type": "markdown",
   "metadata": {},
   "source": [
    "Based on the confusion matrix (test) above, it shows the classifier has the most problems (in yellow) with 5 being mistakenly classified as 3, and 4 being mistakenly classified as 9."
   ]
  },
  {
   "cell_type": "markdown",
   "metadata": {},
   "source": [
    "### MLP"
   ]
  },
  {
   "cell_type": "code",
   "execution_count": 38,
   "metadata": {},
   "outputs": [
    {
     "name": "stdout",
     "output_type": "stream",
     "text": [
      "Iteration 1, loss = 1.75897475\n",
      "Iteration 2, loss = 0.96002620\n",
      "Iteration 3, loss = 0.69720540\n",
      "Iteration 4, loss = 0.45498858\n",
      "Iteration 5, loss = 0.37761542\n",
      "Iteration 6, loss = 0.33838623\n",
      "Iteration 7, loss = 0.31558029\n",
      "Iteration 8, loss = 0.29880765\n",
      "Iteration 9, loss = 0.28865154\n",
      "Iteration 10, loss = 0.27436245\n",
      "Iteration 11, loss = 0.26918680\n",
      "Iteration 12, loss = 0.26054291\n",
      "Iteration 13, loss = 0.25519014\n",
      "Iteration 14, loss = 0.25097437\n",
      "Iteration 15, loss = 0.24502011\n",
      "Iteration 16, loss = 0.23999959\n",
      "Iteration 17, loss = 0.23553339\n",
      "Iteration 18, loss = 0.23146976\n",
      "Iteration 19, loss = 0.22723602\n",
      "Iteration 20, loss = 0.22503644\n",
      "Iteration 21, loss = 0.22434162\n",
      "Iteration 22, loss = 0.22192464\n",
      "Iteration 23, loss = 0.21687442\n",
      "Iteration 24, loss = 0.21570887\n",
      "Iteration 25, loss = 0.21272449\n",
      "Iteration 26, loss = 0.20861221\n",
      "Iteration 27, loss = 0.20876721\n",
      "Iteration 28, loss = 0.20572685\n",
      "Iteration 29, loss = 0.20297555\n",
      "Iteration 30, loss = 0.20207312\n",
      "Iteration 31, loss = 0.19992818\n",
      "Iteration 32, loss = 0.19964756\n",
      "Iteration 33, loss = 0.19705435\n",
      "Iteration 34, loss = 0.19404110\n",
      "Iteration 35, loss = 0.19242427\n",
      "Iteration 36, loss = 0.19113066\n",
      "Iteration 37, loss = 0.18972508\n",
      "Iteration 38, loss = 0.18941850\n",
      "Iteration 39, loss = 0.18733088\n",
      "Iteration 40, loss = 0.18709153\n",
      "Iteration 41, loss = 0.18479474\n",
      "Iteration 42, loss = 0.18268135\n",
      "Iteration 43, loss = 0.18361288\n",
      "Iteration 44, loss = 0.18167347\n",
      "Iteration 45, loss = 0.17885322\n",
      "Iteration 46, loss = 0.17843802\n",
      "Iteration 47, loss = 0.18050616\n",
      "Iteration 48, loss = 0.17696360\n",
      "Iteration 49, loss = 0.17667149\n",
      "Iteration 50, loss = 0.17525990\n",
      "Iteration 51, loss = 0.17537625\n",
      "Iteration 52, loss = 0.17385707\n",
      "Iteration 53, loss = 0.17269942\n",
      "Iteration 54, loss = 0.17065618\n",
      "Iteration 55, loss = 0.17229141\n",
      "Iteration 56, loss = 0.16998712\n",
      "Iteration 57, loss = 0.17120546\n",
      "Iteration 58, loss = 0.16994916\n",
      "Iteration 59, loss = 0.16861280\n",
      "Iteration 60, loss = 0.16870948\n",
      "Iteration 61, loss = 0.16631505\n",
      "Iteration 62, loss = 0.16512904\n",
      "Iteration 63, loss = 0.16326708\n",
      "Iteration 64, loss = 0.16417284\n",
      "Iteration 65, loss = 0.16240450\n",
      "Iteration 66, loss = 0.16321257\n",
      "Iteration 67, loss = 0.16087138\n",
      "Iteration 68, loss = 0.16323046\n",
      "Iteration 69, loss = 0.16101117\n",
      "Iteration 70, loss = 0.16285251\n",
      "Training loss did not improve more than tol=0.000100 for two consecutive epochs. Stopping.\n"
     ]
    },
    {
     "data": {
      "text/plain": [
       "MLPClassifier(activation='relu', alpha=0.0001, batch_size='auto', beta_1=0.9,\n",
       "       beta_2=0.999, early_stopping=False, epsilon=1e-08,\n",
       "       hidden_layer_sizes=(100,), learning_rate='constant',\n",
       "       learning_rate_init=0.001, max_iter=100, momentum=0.9,\n",
       "       nesterovs_momentum=True, power_t=0.5, random_state=None,\n",
       "       shuffle=True, solver='sgd', tol=0.0001, validation_fraction=0.0,\n",
       "       verbose='true', warm_start=False)"
      ]
     },
     "execution_count": 38,
     "metadata": {},
     "output_type": "execute_result"
    }
   ],
   "source": [
    "nn_clf = MLPClassifier(max_iter=100,solver='sgd',validation_fraction=0.0, verbose='true')\n",
    "nn_clf.fit(X_train, y_train)"
   ]
  },
  {
   "cell_type": "code",
   "execution_count": 39,
   "metadata": {},
   "outputs": [
    {
     "name": "stdout",
     "output_type": "stream",
     "text": [
      "Classifier accuracy on the training set is 0.9526666666666667 \n",
      "Classifier accuracy on the test set is 0.9305 \n"
     ]
    }
   ],
   "source": [
    "y_pred = nn_clf.predict(X_train)\n",
    "y_pred_test = nn_clf.predict(X_test)\n",
    "\n",
    "print('Classifier accuracy on the training set is {0} '.format(accuracy_score(y_train, y_pred)))\n",
    "print('Classifier accuracy on the test set is {0} '.format(accuracy_score(y_test, y_pred_test)))"
   ]
  },
  {
   "cell_type": "code",
   "execution_count": 44,
   "metadata": {},
   "outputs": [
    {
     "name": "stdout",
     "output_type": "stream",
     "text": [
      "Confusion matrix (training): \n",
      "[[5714    2    6    1    9   34   25    0   72   11]\n",
      " [   2 6625   40    7    7    2    3   10   13    8]\n",
      " [  40   18 5737   11   69   11   17   29   87    7]\n",
      " [  25   10  203 5449    2  144    8   41  126   80]\n",
      " [  13    7   16    0 5416    3   24    5   47  322]\n",
      " [  94    4    9   56    5 4990   90    2   90   63]\n",
      " [  54    8   14    0   31   25 5728    0   37    3]\n",
      " [   9    5   70    7   47   12    0 6009    6   86]\n",
      " [  21   11   35    5    6   45   25    8 5699   44]\n",
      " [  32    3    0   20   30   21    0   26   64 5793]]\n",
      "Confusion matrix (test): \n",
      "[[ 996    0    4    1    0    4    5    2   15    2]\n",
      " [   1 1129    3    1    3    0    2    6   13    2]\n",
      " [   5    2  913    3    9    2    3    4   19    4]\n",
      " [   6    4   53  892    2   35    2   13   28   18]\n",
      " [   2    6    3    0  880    3    2    2   11   62]\n",
      " [  18    2    6   23    1  797   20    0   23   20]\n",
      " [   9    3    3    0    3    5  946    0    7    0]\n",
      " [   2    4   23    3   10    2    0  975    3   20]\n",
      " [   4   10   13    1    4    7    9    5  865    8]\n",
      " [   4    1    0    3   10   11    0   14   14  912]]\n"
     ]
    }
   ],
   "source": [
    "y_train_pred = nn_clf.predict(X_train)\n",
    "y_test_pred = nn_clf.predict(X_test)\n",
    "conf_mx_train  = confusion_matrix(y_train, y_train_pred)\n",
    "conf_mx_test  = confusion_matrix(y_test, y_test_pred)\n",
    "print('Confusion matrix (training): \\n{0}'.format(conf_mx_train))\n",
    "print('Confusion matrix (test): \\n{0}'.format(conf_mx_test))"
   ]
  },
  {
   "cell_type": "code",
   "execution_count": 46,
   "metadata": {},
   "outputs": [
    {
     "data": {
      "image/png": "[encoded data removed]",
      "text/plain": [
       "<Figure size 576x576 with 2 Axes>"
      ]
     },
     "metadata": {},
     "output_type": "display_data"
    }
   ],
   "source": [
    "row_sums = conf_mx_test.sum(axis=1, keepdims=True)\n",
    "norm_conf_mx = conf_mx_test / row_sums\n",
    "np.fill_diagonal(norm_conf_mx, 0)\n",
    "# plt.matshow(norm_conf_mx, cmap=plt.cm.gray)\n",
    "plot_confusion_matrix(norm_conf_mx)\n",
    "plt.show()"
   ]
  },
  {
   "cell_type": "markdown",
   "metadata": {},
   "source": [
    "Based on the confusion matrix (test) above, it shows the classifier has the most problems (in yellow/green) with 3 being mistakenly classified as 2, and 4 being mistakenly classified as 9."
   ]
  },
  {
   "cell_type": "markdown",
   "metadata": {},
   "source": [
    "### CNN"
   ]
  },
  {
   "cell_type": "code",
   "execution_count": 6,
   "metadata": {},
   "outputs": [
    {
     "name": "stdout",
     "output_type": "stream",
     "text": [
      "x_train shape: (60000, 28, 28, 1)\n",
      "60000 train samples\n",
      "10000 test samples\n",
      "Train on 60000 samples, validate on 10000 samples\n",
      "Epoch 1/2\n",
      "60000/60000 [==============================] - 1119s 19ms/step - loss: 0.2642 - acc: 0.9185 - val_loss: 0.0743 - val_acc: 0.9778\n",
      "Epoch 2/2\n",
      "60000/60000 [==============================] - 1150s 19ms/step - loss: 0.0937 - acc: 0.9721 - val_loss: 0.0517 - val_acc: 0.9847\n",
      "Test loss: 0.051733628138899805\n",
      "Test accuracy: 0.9847\n"
     ]
    }
   ],
   "source": [
    "# Reference architecture design from\n",
    "# https://github.com/keras-team/keras/blob/master/examples/mnist_cnn.py\n",
    "\n",
    "from __future__ import print_function\n",
    "import keras\n",
    "from keras.datasets import mnist\n",
    "from keras.models import Sequential\n",
    "from keras.layers import Dense, Dropout, Flatten\n",
    "from keras.layers import Conv2D, MaxPooling2D\n",
    "from keras import backend as K\n",
    "\n",
    "batch_size = 128\n",
    "num_classes = 10\n",
    "epochs = 2\n",
    "\n",
    "# input image dimensions\n",
    "img_rows, img_cols = 28, 28\n",
    "\n",
    "# the data, split between train and test sets\n",
    "x_train = X_train\n",
    "x_test = X_test\n",
    "\n",
    "if K.image_data_format() == 'channels_first':\n",
    "    x_train = x_train.reshape(x_train.shape[0], 1, img_rows, img_cols)\n",
    "    x_test = x_test.reshape(x_test.shape[0], 1, img_rows, img_cols)\n",
    "    input_shape = (1, img_rows, img_cols)\n",
    "else:\n",
    "    x_train = x_train.reshape(x_train.shape[0], img_rows, img_cols, 1)\n",
    "    x_test = x_test.reshape(x_test.shape[0], img_rows, img_cols, 1)\n",
    "    input_shape = (img_rows, img_cols, 1)\n",
    "\n",
    "x_train = x_train.astype('float32')\n",
    "x_test = x_test.astype('float32')\n",
    "x_train /= 255\n",
    "x_test /= 255\n",
    "print('x_train shape:', x_train.shape)\n",
    "print(x_train.shape[0], 'train samples')\n",
    "print(x_test.shape[0], 'test samples')\n",
    "\n",
    "# convert class vectors to binary class matrices\n",
    "y_train = keras.utils.to_categorical(y_train, num_classes)\n",
    "y_test = keras.utils.to_categorical(y_test, num_classes)\n",
    "\n",
    "model = Sequential()\n",
    "model.add(Conv2D(32, kernel_size=(3, 3),\n",
    "                 activation='relu',\n",
    "                 input_shape=input_shape))\n",
    "model.add(Conv2D(64, (3, 3), activation='relu'))\n",
    "model.add(MaxPooling2D(pool_size=(2, 2)))\n",
    "model.add(Dropout(0.25))\n",
    "model.add(Flatten())\n",
    "model.add(Dense(128, activation='relu'))\n",
    "model.add(Dropout(0.5))\n",
    "model.add(Dense(num_classes, activation='softmax'))\n",
    "\n",
    "model.compile(loss=keras.losses.categorical_crossentropy,\n",
    "              optimizer=keras.optimizers.Adadelta(),\n",
    "              metrics=['accuracy'])\n",
    "\n",
    "model.fit(x_train, y_train,\n",
    "          batch_size=batch_size,\n",
    "          epochs=epochs,\n",
    "          verbose=1,\n",
    "          validation_data=(x_test, y_test))\n",
    "score = model.evaluate(x_test, y_test, verbose=0)\n",
    "print('Test loss:', score[0])\n",
    "print('Test accuracy:', score[1])"
   ]
  },
  {
   "cell_type": "code",
   "execution_count": null,
   "metadata": {},
   "outputs": [],
   "source": [
    "y_train_pred = model.predict(x_train)\n",
    "y_test_pred = model.predict(x_test)"
   ]
  },
  {
   "cell_type": "code",
   "execution_count": 25,
   "metadata": {},
   "outputs": [],
   "source": [
    "y_train_pred_ = np.argmax(y_train_pred, axis=1)\n",
    "y_test_pred_ = np.argmax(y_test_pred, axis=1)"
   ]
  },
  {
   "cell_type": "code",
   "execution_count": 26,
   "metadata": {},
   "outputs": [
    {
     "name": "stdout",
     "output_type": "stream",
     "text": [
      "Confusion matrix (training): \n",
      "[[5851    0    5    0    1    2    4    1    8    2]\n",
      " [   2 6634   31    7    5    1    4   15   17    1]\n",
      " [   2    3 5980    8    2    0    0   16   11    4]\n",
      " [   1    0   28 6016    0   12    1    7   17    6]\n",
      " [   9    2   11    1 5751    0   12    4    8   55]\n",
      " [   4    1    4   33    0 5327   14    0   16    4]\n",
      " [  15    5    3    1    4   17 5836    0   18    1]\n",
      " [   4    3   40    6   10    2    0 6161    7   18]\n",
      " [   5    3   13    6    1   10    4    2 5842   13]\n",
      " [  16    3    2   25    8    9    0   34   24 5868]]\n",
      "Confusion matrix (test): \n",
      "[[1026    0    0    0    0    0    0    0    3    0]\n",
      " [   2 1140    2    0    1    0    2    8    4    1]\n",
      " [   1    0  952    4    1    0    0    3    3    0]\n",
      " [   1    0    9 1033    0    2    0    3    4    1]\n",
      " [   0    3    2    0  945    0    3    1    4   13]\n",
      " [   3    0    0    4    0  888    7    0    5    3]\n",
      " [   3    1    1    0    0    3  967    0    1    0]\n",
      " [   2    1    6    2    4    0    0 1022    2    3]\n",
      " [   1    1    4    0    0    1    1    0  916    2]\n",
      " [   3    0    0    2    1    2    1    2    0  958]]\n"
     ]
    }
   ],
   "source": [
    "conf_mx_train  = confusion_matrix(y_train, y_train_pred_)\n",
    "conf_mx_test  = confusion_matrix(y_test, y_test_pred_)\n",
    "print('Confusion matrix (training): \\n{0}'.format(conf_mx_train))\n",
    "print('Confusion matrix (test): \\n{0}'.format(conf_mx_test))"
   ]
  },
  {
   "cell_type": "markdown",
   "metadata": {},
   "source": [
    "Based on the confusion matrix (test), the regression classifier classifies 2 the best and 5 the worst."
   ]
  },
  {
   "cell_type": "code",
   "execution_count": 29,
   "metadata": {},
   "outputs": [
    {
     "data": {
      "image/png": "[encoded data removed]",
      "text/plain": [
       "<Figure size 576x576 with 2 Axes>"
      ]
     },
     "metadata": {},
     "output_type": "display_data"
    }
   ],
   "source": [
    "row_sums = conf_mx_test.sum(axis=1, keepdims=True)\n",
    "norm_conf_mx = conf_mx_test / row_sums\n",
    "np.fill_diagonal(norm_conf_mx, 0)\n",
    "# plt.matshow(norm_conf_mx, cmap=plt.cm.gray)\n",
    "plot_confusion_matrix(norm_conf_mx)\n",
    "plt.show()"
   ]
  },
  {
   "cell_type": "markdown",
   "metadata": {},
   "source": [
    "Based on the confusion matrix (test) above, it shows the classifier has the most problems (in yellow) with 4 being mistakenly classified as 9."
   ]
  },
  {
   "cell_type": "markdown",
   "metadata": {},
   "source": [
    "# Overall observations of soft-max regression, MLP, and CNN"
   ]
  },
  {
   "cell_type": "markdown",
   "metadata": {},
   "source": [
    "Both soft-max, MLP, and CNN had the most difficulty with mistakenly classifying 4 as a 9. This makes sense since both digits look similar, except that the 4 has straighter edges, vs the 9 which has loops.\n",
    "\n",
    "Using initial hyperparameter settings, the performance obtained from each model, based on accuracy, the order of least to best performance was soft-max regression (test acc 83.26%), MLP (test acc 93.05%), and CNN (test acc 98.46%)."
   ]
  }
 ],
 "metadata": {
  "kernelspec": {
   "display_name": "Python 3",
   "language": "python",
   "name": "python3"
  },
  "language_info": {
   "codemirror_mode": {
    "name": "ipython",
    "version": 3
   },
   "file_extension": ".py",
   "mimetype": "text/x-python",
   "name": "python",
   "nbconvert_exporter": "python",
   "pygments_lexer": "ipython3",
   "version": "3.6.5"
  }
 },
 "nbformat": 4,
 "nbformat_minor": 2
}
